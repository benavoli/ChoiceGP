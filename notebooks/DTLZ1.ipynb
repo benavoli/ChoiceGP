{
 "cells": [
  {
   "cell_type": "code",
   "execution_count": 1,
   "id": "8895a9b9",
   "metadata": {},
   "outputs": [],
   "source": [
    "import numpy as np\n",
    "import sys\n",
    "sys.path.append('../')\n",
    "from model.erroneousChoice import  erroneousChoice\n",
    "from kernel import jaxrbf\n",
    "from utility import  paramz\n",
    "import matplotlib.pyplot as plt\n",
    "import matplotlib \n",
    "matplotlib.rc('xtick', labelsize=12) \n",
    "matplotlib.rc('ytick', labelsize=12)     "
   ]
  },
  {
   "cell_type": "markdown",
   "id": "d09ba235",
   "metadata": {},
   "source": [
    "# Example using a benchmark problem from optimisation\n",
    "We will use the benchmark DTLZ1, implementation from Botorch, to generate high-dimensional choice data. The number of covariates is equal to 5 and the number of utilities to 3.\n",
    "We simulate the case where the subject has to select the best objects in a set of dimension $|A|=10$. Overall we will simulate 300 choices. We will use the first 200 as training set and the remainining 100 as test set.\n"
   ]
  },
  {
   "cell_type": "code",
   "execution_count": 16,
   "id": "5bacb746",
   "metadata": {},
   "outputs": [],
   "source": [
    "import torch\n",
    "from botorch.utils.multi_objective import is_non_dominated\n",
    "from botorch.test_functions.multi_objective import DTLZ1\n",
    "\n",
    "def is_pareto(X):\n",
    "    return is_non_dominated(torch.from_numpy(X),deduplicate=False)\n",
    "\n",
    "\n",
    "dimx=5\n",
    "num_objectives=3\n",
    "problem = DTLZ1(dimx,num_objectives=num_objectives,negate=True)\n",
    "def fun(x):\n",
    "    return np.array(problem(torch.from_numpy(x)))\n",
    "bounds = [[0,1],[0,1],[0,1],[0,1],[0,1]]\n",
    "\n",
    "#generate CA RA sets\n",
    "def make_CA_RA(x, y, rows=[]):\n",
    "    if len(rows)==0:\n",
    "        rows=np.arange(x.shape[0])\n",
    "    acc = rows[is_pareto(y)]\n",
    "    rej = rows[~ is_pareto(y)]\n",
    "    return acc, rej\n",
    "\n",
    "def make_observations(X, fun, nA, dimA):\n",
    "    CA=[]\n",
    "    RA=[]   \n",
    "    ix = 0\n",
    "    for i in range(nA):\n",
    "        rows = np.random.permutation(np.arange(X.shape[0]))[0:dimA]\n",
    "        x=X[rows,:]\n",
    "        y=fun(x)\n",
    "        acc,rej=make_CA_RA(x, y, rows)\n",
    "        if len(acc)>0:\n",
    "            CA.append(acc)\n",
    "        else:\n",
    "            CA.append([])\n",
    "        if len(acc)<dimA:\n",
    "            RA.append(rej)\n",
    "        else:\n",
    "            RA.append([])\n",
    "        ix = ix+1\n",
    "    return CA, RA\n",
    "\n",
    "\n",
    "#generate data\n",
    "np.random.seed(1)\n",
    "\n",
    "# we randomly generate objects\n",
    "n = 100 # number of objects\n",
    "X =np.vstack(bounds)[:,0]+np.random.rand(n,len(bounds))*(np.vstack(bounds)[:,1]-np.vstack(bounds)[:,0])\n",
    "\n",
    "# we randomly generate choice data\n",
    "nA = 300\n",
    "dimA = 10\n",
    "CA, RA = make_observations(X, fun, nA, dimA)\n",
    "\n",
    "#train-test split\n",
    "n_tr=200\n",
    "indp = np.random.permutation(nA)\n",
    "#trainining\n",
    "CA_tr=[CA[i] for i in indp[0:n_tr]]\n",
    "RA_tr=[RA[i] for i in indp[0:n_tr]]\n",
    "#testing\n",
    "CA_te=[CA[i] for i in indp[n_tr:]]\n",
    "RA_te=[RA[i] for i in indp[n_tr:]]"
   ]
  },
  {
   "cell_type": "code",
   "execution_count": 18,
   "id": "a935bbab",
   "metadata": {},
   "outputs": [
    {
     "name": "stderr",
     "output_type": "stream",
     "text": [
      "WARNING:absl:No GPU/TPU found, falling back to CPU. (Set TF_CPP_MIN_LOG_LEVEL=0 and rerun for more info.)\n"
     ]
    },
    {
     "name": "stdout",
     "output_type": "stream",
     "text": [
      "34984.36096971312\n",
      "49380.26074503088\n",
      "34184.91801321277\n",
      "1536.7819128608805\n"
     ]
    },
    {
     "name": "stderr",
     "output_type": "stream",
     "text": [
      "\r",
      "  0%|          | 0/4000 [00:00<?, ?it/s]"
     ]
    },
    {
     "name": "stdout",
     "output_type": "stream",
     "text": [
      "27472.383906091047\n",
      "1536.7819128608805\n"
     ]
    },
    {
     "name": "stderr",
     "output_type": "stream",
     "text": [
      "100%|██████████| 4000/4000 [25:43<00:00,  2.59it/s]\n"
     ]
    },
    {
     "name": "stdout",
     "output_type": "stream",
     "text": [
      "{'lengthscale_0': {'value': array([0.36590104, 0.65349102, 1.54004562, 5.08602279, 1.86262396]), 'range': array([[0.1, 3. ],\n",
      "       [0.1, 3. ],\n",
      "       [0.1, 3. ],\n",
      "       [0.1, 3. ],\n",
      "       [0.1, 3. ]]), 'transform': <utility.paramz.logexp object at 0x7fc4523524c0>}, 'variance_0': {'value': array([93.70290377]), 'range': array([[  1., 200.]]), 'transform': <utility.paramz.logexp object at 0x7fc4523b7be0>}, 'lengthscale_1': {'value': array([0.31057292, 0.08152722, 0.62937835, 0.86296821, 0.15523969]), 'range': array([[0.1, 3. ],\n",
      "       [0.1, 3. ],\n",
      "       [0.1, 3. ],\n",
      "       [0.1, 3. ],\n",
      "       [0.1, 3. ]]), 'transform': <utility.paramz.logexp object at 0x7fc4523b7a90>}, 'variance_1': {'value': array([37.24537701]), 'range': array([[  1., 200.]]), 'transform': <utility.paramz.logexp object at 0x7fc4523b7ee0>}, 'lengthscale_2': {'value': array([0.19600908, 0.14324927, 1.73730068, 0.24783269, 0.8837354 ]), 'range': array([[0.1, 3. ],\n",
      "       [0.1, 3. ],\n",
      "       [0.1, 3. ],\n",
      "       [0.1, 3. ],\n",
      "       [0.1, 3. ]]), 'transform': <utility.paramz.logexp object at 0x7fc4523b7d30>}, 'variance_2': {'value': array([30.64137365]), 'range': array([[  1., 200.]]), 'transform': <utility.paramz.logexp object at 0x7fc4523b7fa0>}}\n"
     ]
    },
    {
     "ename": "NameError",
     "evalue": "name 'Xpred' is not defined",
     "output_type": "error",
     "traceback": [
      "\u001b[0;31m---------------------------------------------------------------------------\u001b[0m",
      "\u001b[0;31mNameError\u001b[0m                                 Traceback (most recent call last)",
      "\u001b[0;32m<ipython-input-18-81070ae61d35>\u001b[0m in \u001b[0;36m<module>\u001b[0;34m\u001b[0m\n\u001b[1;32m     23\u001b[0m \u001b[0mprint\u001b[0m\u001b[0;34m(\u001b[0m\u001b[0mmodel\u001b[0m\u001b[0;34m.\u001b[0m\u001b[0mparams\u001b[0m\u001b[0;34m)\u001b[0m\u001b[0;34m\u001b[0m\u001b[0;34m\u001b[0m\u001b[0m\n\u001b[1;32m     24\u001b[0m \u001b[0;31m# predicted samples\u001b[0m\u001b[0;34m\u001b[0m\u001b[0;34m\u001b[0m\u001b[0m\n\u001b[0;32m---> 25\u001b[0;31m \u001b[0mpredictions\u001b[0m \u001b[0;34m=\u001b[0m \u001b[0mmodel\u001b[0m\u001b[0;34m.\u001b[0m\u001b[0mpredict_VI\u001b[0m\u001b[0;34m(\u001b[0m\u001b[0mXpred\u001b[0m\u001b[0;34m)\u001b[0m\u001b[0;34m\u001b[0m\u001b[0;34m\u001b[0m\u001b[0m\n\u001b[0m\u001b[1;32m     26\u001b[0m \u001b[0;31m#it returns the joint mean (predictions[0]) and joint covariance matrix (predictions[1]) for the latent utilities. They have\u001b[0m\u001b[0;34m\u001b[0m\u001b[0;34m\u001b[0m\u001b[0m\n",
      "\u001b[0;31mNameError\u001b[0m: name 'Xpred' is not defined"
     ]
    }
   ],
   "source": [
    "latent_dim = num_objectives #equal to the true number of objectives\n",
    "#data\n",
    "data={'X': X,\n",
    "      'CA': CA_tr,\n",
    "      'RA': RA_tr,\n",
    "      'dimA':dimA\n",
    "          }\n",
    "\n",
    "# define kernel: RBF \n",
    "Kernel = jaxrbf.RBF\n",
    "\n",
    "#initial value for the hyperparameters of the kernel\n",
    "params = {}\n",
    "for i in range(latent_dim):\n",
    "    params['lengthscale_'+str(i)]={'value':1.0*np.ones(data[\"X\"].shape[1],float), \n",
    "                                'range':np.vstack([[0.1, 3.0]]*data[\"X\"].shape[1]),\n",
    "                                'transform': paramz.logexp()}\n",
    "    params['variance_'+str(i)]   ={'value':np.array([3]), \n",
    "                                    'range':np.vstack([[1.0, 200.0]]),\n",
    "                                    'transform': paramz.logexp()}\n",
    "# define choice model \n",
    "model = erroneousChoice(data,Kernel,params,latent_dim)\n",
    "\n",
    "# compute variational inference and estimate hyperparameters\n",
    "model.optimize_hyperparams(niterations=4000,kernel_hypers_fixed=False)\n",
    "print(model.params)\n"
   ]
  },
  {
   "cell_type": "code",
   "execution_count": 19,
   "id": "1c868456",
   "metadata": {},
   "outputs": [],
   "source": [
    "# predicted samples\n",
    "predictions = model.predict_VI(X)\n",
    "#it returns the joint mean (predictions[0]) and joint covariance matrix (predictions[1]) \n",
    "#for the latent utilities. \n",
    "F = predictions[0]\n",
    "F = F.reshape(latent_dim,X.shape[0]).T# these are the expected utility as a matrix: num_X times latent_dim"
   ]
  },
  {
   "cell_type": "code",
   "execution_count": 21,
   "id": "be89ebfb",
   "metadata": {},
   "outputs": [
    {
     "name": "stdout",
     "output_type": "stream",
     "text": [
      "0.916\n"
     ]
    }
   ],
   "source": [
    "#Compute accuracy on test set\n",
    "Pred=[]\n",
    "YTrue=[]\n",
    "for ii in range(0,len(CA_te)):\n",
    "    if len(RA_te[ii])>0:\n",
    "        Pred.append(is_non_dominated(torch.from_numpy(np.vstack([F[CA_te[ii]],\n",
    "               F[RA_te[ii]]\n",
    "              ]))))\n",
    "        YTrue.append(np.hstack([np.ones(len(CA_te[ii])),np.zeros(len(RA_te[ii]))]))\n",
    "    else:\n",
    "        Pred.append(is_non_dominated(torch.from_numpy(np.array(F[CA_te[ii]]))))\n",
    "        YTrue.append(np.hstack([np.ones(len(CA_te[ii]))]))\n",
    "acc = len(np.where(abs(np.vstack(YTrue).astype(int)-np.vstack(Pred))==0)[0])/np.vstack(YTrue).size\n",
    "print(\"accuracy=\",acc)"
   ]
  },
  {
   "cell_type": "markdown",
   "id": "f2fd47ae",
   "metadata": {},
   "source": [
    "Note that, in the above code, we used the expected utility to choose predict the subject's choice for the test set. A better way to perform this computation is to compute the probability that a subset of $A_k$ is the pareto set and for instance return the subset which has the highest probability to be undominated."
   ]
  },
  {
   "cell_type": "code",
   "execution_count": null,
   "id": "fa3a27c7",
   "metadata": {},
   "outputs": [],
   "source": []
  }
 ],
 "metadata": {
  "kernelspec": {
   "display_name": "Python 3",
   "language": "python",
   "name": "python3"
  },
  "language_info": {
   "codemirror_mode": {
    "name": "ipython",
    "version": 3
   },
   "file_extension": ".py",
   "mimetype": "text/x-python",
   "name": "python",
   "nbconvert_exporter": "python",
   "pygments_lexer": "ipython3",
   "version": "3.9.7"
  }
 },
 "nbformat": 4,
 "nbformat_minor": 5
}
